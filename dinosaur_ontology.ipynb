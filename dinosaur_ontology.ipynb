{
 "cells": [
  {
   "cell_type": "markdown",
   "id": "305cf858-2be2-46f2-a0e5-b1bc818ab788",
   "metadata": {},
   "source": [
    "# Dinosaur Ontology"
   ]
  },
  {
   "cell_type": "code",
   "execution_count": null,
   "id": "833f03fd-5f77-45d6-bb74-e78dc6d74ec8",
   "metadata": {},
   "outputs": [],
   "source": []
  }
 ],
 "metadata": {
  "kernelspec": {
   "display_name": "Python 3 (ipykernel)",
   "language": "python",
   "name": "python3"
  },
  "language_info": {
   "codemirror_mode": {
    "name": "ipython",
    "version": 3
   },
   "file_extension": ".py",
   "mimetype": "text/x-python",
   "name": "python",
   "nbconvert_exporter": "python",
   "pygments_lexer": "ipython3",
   "version": "3.12.6"
  }
 },
 "nbformat": 4,
 "nbformat_minor": 5
}
