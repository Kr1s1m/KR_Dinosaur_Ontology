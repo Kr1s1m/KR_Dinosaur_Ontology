{
 "cells": [
  {
   "cell_type": "markdown",
   "id": "305cf858-2be2-46f2-a0e5-b1bc818ab788",
   "metadata": {},
   "source": [
    "# Dinosaur Ontology"
   ]
  },
  {
   "cell_type": "markdown",
   "id": "0cf7e902-df0d-48d7-a11f-0dfc514c6e61",
   "metadata": {},
   "source": [
    "## Code & Experiments"
   ]
  },
  {
   "cell_type": "markdown",
   "id": "4a02c1d1",
   "metadata": {},
   "source": [
    "#### Python 3 owlready2 implementation"
   ]
  },
  {
   "cell_type": "code",
   "execution_count": 1,
   "id": "396a9e03",
   "metadata": {},
   "outputs": [],
   "source": [
    "from owlready2 import *"
   ]
  },
  {
   "cell_type": "markdown",
   "id": "f44fbd32",
   "metadata": {},
   "source": [
    "#### Create local ontology"
   ]
  },
  {
   "cell_type": "code",
   "execution_count": 2,
   "id": "833f03fd-5f77-45d6-bb74-e78dc6d74ec8",
   "metadata": {},
   "outputs": [],
   "source": [
    "owlready2.onto_path.append(\"C:/Users/Simov/Desktop/Projects/Knowledge Representation/project/KR_Dinosaur_Ontology\")\n",
    "dinosaur_onto = owlready2.get_ontology(\"http://dinosauria.org/dinosaur_onto.owl\")"
   ]
  },
  {
   "cell_type": "markdown",
   "id": "766b88a4",
   "metadata": {},
   "source": [
    "#### Dinosauria family tree based on the Saurischia model and cutting edge philogenetic studies"
   ]
  },
  {
   "cell_type": "markdown",
   "id": "a585ebcd",
   "metadata": {},
   "source": [
    "![dinosauria.svg](dinosauria.svg)"
   ]
  },
  {
   "cell_type": "markdown",
   "id": "ec9dc2bf",
   "metadata": {},
   "source": [
    "#### Dinosauria"
   ]
  },
  {
   "cell_type": "code",
   "execution_count": 3,
   "id": "441d09f3",
   "metadata": {},
   "outputs": [],
   "source": [
    "# ROOT\n",
    "class Dinosauria(Thing):\n",
    "    namespace = dinosaur_onto"
   ]
  },
  {
   "cell_type": "markdown",
   "id": "c7adb71d",
   "metadata": {},
   "source": [
    "#### Ornithischia"
   ]
  },
  {
   "cell_type": "code",
   "execution_count": 4,
   "id": "a5e2c691",
   "metadata": {},
   "outputs": [],
   "source": [
    "class Ornithischia(Dinosauria):\n",
    "    namespace = dinosaur_onto\n",
    "\n",
    "class Heterodontosauridae(Ornithischia):\n",
    "    namespace = dinosaur_onto\n",
    "\n",
    "class Saphornithischia(Ornithischia):\n",
    "    namespace = dinosaur_onto\n",
    "\n",
    "class Genasauria(Saphornithischia):\n",
    "    namespace = dinosaur_onto"
   ]
  },
  {
   "cell_type": "markdown",
   "id": "8aa1235c",
   "metadata": {},
   "source": [
    "#### Thyreophora"
   ]
  },
  {
   "cell_type": "code",
   "execution_count": 5,
   "id": "7ee45f7a",
   "metadata": {},
   "outputs": [],
   "source": [
    "class Thyreophora(Genasauria):\n",
    "    namespace = dinosaur_onto\n",
    "\n",
    "class Thyreophoroidea(Thyreophora):\n",
    "    namespace = dinosaur_onto\n",
    "\n",
    "class Scelidosauridae(Thyreophoroidea):\n",
    "    namespace = dinosaur_onto\n",
    "\n",
    "class Eurypoda(Thyreophoroidea):\n",
    "    namespace = dinosaur_onto"
   ]
  },
  {
   "cell_type": "markdown",
   "id": "de5718f1",
   "metadata": {},
   "source": [
    "#### Stegosauria"
   ]
  },
  {
   "cell_type": "code",
   "execution_count": 6,
   "id": "c6f1faba",
   "metadata": {},
   "outputs": [],
   "source": [
    "class Stegosauria(Eurypoda):\n",
    "    namespace = dinosaur_onto\n",
    "\n",
    "class Huyangosauridae(Stegosauria):\n",
    "    namespace = dinosaur_onto\n",
    "\n",
    "class Stegosauridae(Stegosauria):\n",
    "    namespace = dinosaur_onto\n",
    "\n",
    "class Stegosaurinae(Stegosauridae):\n",
    "    namespace = dinosaur_onto\n",
    "\n",
    "class Decentrurinae(Stegosauridae):\n",
    "    namespace = dinosaur_onto"
   ]
  },
  {
   "cell_type": "markdown",
   "id": "087d82b5",
   "metadata": {},
   "source": [
    "#### Ankylosauria"
   ]
  },
  {
   "cell_type": "code",
   "execution_count": 7,
   "id": "8b5d56c2",
   "metadata": {},
   "outputs": [],
   "source": [
    "class Ankylosauria(Eurypoda):\n",
    "    namespace = dinosaur_onto\n",
    "\n",
    "class Parankylosauria(Ankylosauria):\n",
    "    namespace = dinosaur_onto\n",
    "\n",
    "class Euankylosauria(Ankylosauria):\n",
    "    namespace = dinosaur_onto\n",
    "\n",
    "class Nodosauridae(Euankylosauria):\n",
    "    namespace = dinosaur_onto\n",
    "\n",
    "class Polacanthinae(Nodosauridae):\n",
    "    namespace = dinosaur_onto\n",
    "\n",
    "class Nodosaurinae(Nodosauridae):\n",
    "    namespace = dinosaur_onto\n",
    "\n",
    "class Panoplosaurini(Nodosaurinae):\n",
    "    namespace = dinosaur_onto\n",
    "\n",
    "class Struthiosaurini(Nodosaurinae):\n",
    "    namespace = dinosaur_onto\n",
    "\n",
    "class Ankylosauridae(Euankylosauria):\n",
    "    namespace = dinosaur_onto\n",
    "\n",
    "class Shamosaurinae(Ankylosauridae):\n",
    "    namespace = dinosaur_onto\n",
    "\n",
    "class Ankylosaurinae(Ankylosauridae):\n",
    "    namespace = dinosaur_onto"
   ]
  },
  {
   "cell_type": "markdown",
   "id": "15b2ec9c",
   "metadata": {},
   "source": [
    "#### Neornithischia"
   ]
  },
  {
   "cell_type": "code",
   "execution_count": 8,
   "id": "794ac21e",
   "metadata": {},
   "outputs": [],
   "source": [
    "class Neornithischia(Genasauria):\n",
    "    namespace = dinosaur_onto\n",
    "\n",
    "class Thescelosauridae(Neornithischia):\n",
    "    namespace = dinosaur_onto\n",
    "\n",
    "class Orodrominae(Thescelosauridae):\n",
    "    namespace = dinosaur_onto\n",
    "\n",
    "class Thescelosaurinae(Thescelosauridae):\n",
    "    namespace = dinosaur_onto\n",
    "\n",
    "class Cerapoda(Neornithischia):\n",
    "    namespace = dinosaur_onto"
   ]
  },
  {
   "cell_type": "markdown",
   "id": "00dd5689",
   "metadata": {},
   "source": [
    "#### Ornithopoda"
   ]
  },
  {
   "cell_type": "code",
   "execution_count": 9,
   "id": "78ef8e20",
   "metadata": {},
   "outputs": [],
   "source": [
    "class Ornithopoda(Cerapoda):\n",
    "    namespace = dinosaur_onto\n",
    "\n",
    "class Hypsilophodontidae(Ornithopoda):\n",
    "    namespace = dinosaur_onto\n",
    "\n",
    "class Iguanodontia(Ornithopoda):\n",
    "    namespace = dinosaur_onto\n",
    "\n",
    "class Rhabdodontomorphs(Iguanodontia):\n",
    "    namespace = dinosaur_onto\n",
    "\n",
    "class Tenontosauridae(Rhabdodontomorphs):\n",
    "    namespace = dinosaur_onto\n",
    "\n",
    "class Rhabdodontidae(Rhabdodontomorphs):\n",
    "    namespace = dinosaur_onto\n",
    "\n",
    "class Euiguanodontia(Iguanodontia):\n",
    "    namespace = dinosaur_onto\n",
    "\n",
    "class Elasmaria(Euiguanodontia):\n",
    "    namespace = dinosaur_onto\n",
    "\n",
    "class Dryomorpha(Euiguanodontia):\n",
    "    namespace = dinosaur_onto\n",
    "\n",
    "class Dryosauridae(Dryomorpha):\n",
    "    namespace = dinosaur_onto\n",
    "\n",
    "class Ankylopollexia(Dryomorpha):\n",
    "    namespace = dinosaur_onto\n",
    "\n",
    "class Camptosauridae(Ankylopollexia):\n",
    "    namespace = dinosaur_onto\n",
    "\n",
    "class Styracosterna(Ankylopollexia):\n",
    "    namespace = dinosaur_onto"
   ]
  },
  {
   "cell_type": "markdown",
   "id": "15c53e67",
   "metadata": {},
   "source": [
    "#### Hadrosauriformes"
   ]
  },
  {
   "cell_type": "code",
   "execution_count": 10,
   "id": "d948e103",
   "metadata": {},
   "outputs": [],
   "source": [
    "class Hadrosauriformes(Styracosterna):\n",
    "    namespace = dinosaur_onto\n",
    "\n",
    "class Iguanodontidae(Hadrosauriformes):\n",
    "    namespace = dinosaur_onto\n",
    "\n",
    "class Hadrosauridea(Hadrosauriformes):\n",
    "    namespace = dinosaur_onto\n",
    "\n",
    "class Hadrosauromorpha(Hadrosauridea):\n",
    "    namespace = dinosaur_onto\n",
    "\n",
    "class Hadrosauridae(Hadrosauromorpha):\n",
    "    namespace = dinosaur_onto\n",
    "\n",
    "class Saurolophinae(Hadrosauridae):\n",
    "    namespace = dinosaur_onto\n",
    "\n",
    "class Saurolopini(Saurolophinae):\n",
    "    namespace = dinosaur_onto\n",
    "\n",
    "class Edmontosaurini(Saurolophinae):\n",
    "    namespace = dinosaur_onto\n",
    "\n",
    "class Lambeosaurinae(Hadrosauridae):\n",
    "    namespace = dinosaur_onto\n",
    "\n",
    "class Parasaurolophini(Lambeosaurinae):\n",
    "    namespace = dinosaur_onto\n",
    "\n",
    "class Lambeosaurini(Lambeosaurinae):\n",
    "    namespace = dinosaur_onto"
   ]
  },
  {
   "cell_type": "markdown",
   "id": "f7a4be11",
   "metadata": {},
   "source": [
    "#### Marginocephalia"
   ]
  },
  {
   "cell_type": "code",
   "execution_count": 11,
   "id": "ad6a8e93",
   "metadata": {},
   "outputs": [],
   "source": [
    "class Marginocephalia(Cerapoda):\n",
    "    namespace = dinosaur_onto\n",
    "\n",
    "class Pachycephalosauria(Marginocephalia):\n",
    "    namespace = dinosaur_onto\n",
    "\n",
    "class Pachycephalosauridae(Pachycephalosauria):\n",
    "    namespace = dinosaur_onto\n",
    "\n",
    "class Pachycephalosaurinae(Pachycephalosauridae):\n",
    "    namespace = dinosaur_onto\n",
    "\n",
    "class Pachycephalosaurini(Pachycephalosaurinae):\n",
    "    namespace = dinosaur_onto"
   ]
  },
  {
   "cell_type": "markdown",
   "id": "9e2cb5e2",
   "metadata": {},
   "source": [
    "#### Ceratopsia"
   ]
  },
  {
   "cell_type": "code",
   "execution_count": 12,
   "id": "1248bc95",
   "metadata": {},
   "outputs": [],
   "source": [
    "class Ceratopsia(Marginocephalia):\n",
    "    namespace = dinosaur_onto\n",
    "\n",
    "class Neoceratopsia(Ceratopsia):\n",
    "    namespace = dinosaur_onto\n",
    "\n",
    "class Leptoceratopsidae(Neoceratopsia):\n",
    "    namespace = dinosaur_onto\n",
    "\n",
    "class Coronosauria(Neoceratopsia):\n",
    "    namespace = dinosaur_onto\n",
    "\n",
    "class Protoceratopsidae(Coronosauria):\n",
    "    namespace = dinosaur_onto\n",
    "\n",
    "class Ceratopsidae(Coronosauria):\n",
    "    namespace = dinosaur_onto\n",
    "\n",
    "class Chasmosaurinae(Ceratopsidae):\n",
    "    namespace = dinosaur_onto\n",
    "\n",
    "class Triceratopsini(Chasmosaurinae):\n",
    "    namespace = dinosaur_onto\n",
    "\n",
    "class Centrosaurinae(Ceratopsidae):\n",
    "    namespace = dinosaur_onto\n",
    "\n",
    "class Nasutoceratopsini(Centrosaurinae):\n",
    "    namespace = dinosaur_onto\n",
    "\n",
    "class Eucentrosaura(Centrosaurinae):\n",
    "    namespace = dinosaur_onto\n",
    "    \n",
    "class Pachyrhinosaurini(Eucentrosaura):\n",
    "    namespace = dinosaur_onto\n",
    "\n",
    "class Centrosaurini(Eucentrosaura):\n",
    "    namespace = dinosaur_onto"
   ]
  },
  {
   "cell_type": "markdown",
   "id": "3b3dddf0",
   "metadata": {},
   "source": [
    "#### Saurischia"
   ]
  },
  {
   "cell_type": "code",
   "execution_count": 13,
   "id": "e3765709",
   "metadata": {},
   "outputs": [],
   "source": [
    "class Saurischia(Dinosauria):\n",
    "    namespace = dinosaur_onto\n",
    "\n",
    "class Herrasauria(Saurischia):\n",
    "    namespace = dinosaur_onto\n",
    "\n",
    "class Herrasauridae(Herrasauria):\n",
    "    namespace = dinosaur_onto\n",
    "\n",
    "class Eusaurischia(Saurischia):\n",
    "    namespace = dinosaur_onto"
   ]
  },
  {
   "cell_type": "markdown",
   "id": "ca03a30c",
   "metadata": {},
   "source": [
    "#### Sauropodomorpha"
   ]
  },
  {
   "cell_type": "code",
   "execution_count": 14,
   "id": "55806c6c",
   "metadata": {},
   "outputs": [],
   "source": [
    "class Sauropodomorpha(Eusaurischia):\n",
    "    namespace = dinosaur_onto\n",
    "\n",
    "class Saturnaliidae(Sauropodomorpha):\n",
    "    namespace = dinosaur_onto\n",
    "\n",
    "class Sauropodomorpha_Plateosauria(Sauropodomorpha):\n",
    "    namespace = dinosaur_onto\n",
    "\n",
    "class Plateosauria(Sauropodomorpha_Plateosauria):\n",
    "    namespace = dinosaur_onto\n",
    "\n",
    "class Plateosauridae_Unaysauridae(Plateosauria):\n",
    "    namespace = dinosaur_onto\n",
    "\n",
    "class Plateosauridae(Plateosauridae_Unaysauridae):\n",
    "    namespace = dinosaur_onto\n",
    "\n",
    "class Unaysauridae(Plateosauridae_Unaysauridae):\n",
    "    namespace = dinosaur_onto\n",
    "\n",
    "class Massapoda(Plateosauria):\n",
    "    namespace = dinosaur_onto\n",
    "\n",
    "class Riojasauridae(Massapoda):\n",
    "    namespace = dinosaur_onto\n",
    "\n",
    "class Massapoda_Massospondylidae(Massapoda):\n",
    "    namespace = dinosaur_onto\n",
    "\n",
    "class Massospondylidae(Massapoda_Massospondylidae):\n",
    "    namespace = dinosaur_onto\n",
    "\n",
    "class Massapoda_Massospondylidae_Sauropodiformes(Massapoda_Massospondylidae):\n",
    "    namespace = dinosaur_onto"
   ]
  },
  {
   "cell_type": "markdown",
   "id": "c4ea33cc",
   "metadata": {},
   "source": [
    "#### Sauropodiformes"
   ]
  },
  {
   "cell_type": "code",
   "execution_count": 15,
   "id": "b3ab94c5",
   "metadata": {},
   "outputs": [],
   "source": [
    "class Sauropodiformes(Massapoda_Massospondylidae_Sauropodiformes):\n",
    "    namespace = dinosaur_onto\n",
    "\n",
    "class Sauropoda(Sauropodiformes):\n",
    "    namespace = dinosaur_onto\n",
    "\n",
    "class Eusauropoda(Sauropoda):\n",
    "    namespace = dinosaur_onto\n",
    "\n",
    "class Mamenchisauridae(Eusauropoda):\n",
    "    namespace = dinosaur_onto\n",
    "\n",
    "class Eusauropoda_Neosauropoda(Eusauropoda):\n",
    "    namespace = dinosaur_onto\n",
    "\n",
    "class Neosauropoda(Eusauropoda_Neosauropoda):\n",
    "    namespace = dinosaur_onto\n",
    "\n",
    "class Diplodocoidea(Neosauropoda):\n",
    "    namespace = dinosaur_onto\n",
    "\n",
    "class Rebbachisauridae(Diplodocoidea):\n",
    "    namespace = dinosaur_onto\n",
    "\n",
    "class Limaysaurinae(Rebbachisauridae):\n",
    "    namespace = dinosaur_onto\n",
    "\n",
    "class Nigersaurinae(Rebbachisauridae):\n",
    "    namespace = dinosaur_onto\n",
    "\n",
    "class Flagellicaudata(Diplodocoidea):\n",
    "    namespace = dinosaur_onto\n",
    "\n",
    "class Dicraeosauridae(Flagellicaudata):\n",
    "    namespace = dinosaur_onto\n",
    "\n",
    "class Diplodocidae(Flagellicaudata):\n",
    "    namespace = dinosaur_onto\n",
    "\n",
    "class Apatosaurinae(Diplodocidae):\n",
    "    namespace = dinosaur_onto\n",
    "\n",
    "class Diplodocinae(Diplodocidae):\n",
    "    namespace = dinosaur_onto\n",
    "\n",
    "class Macronaria(Neosauropoda):\n",
    "    namespace = dinosaur_onto\n",
    "\n",
    "class Camarasauridae(Macronaria):\n",
    "    namespace = dinosaur_onto"
   ]
  },
  {
   "cell_type": "markdown",
   "id": "89714693",
   "metadata": {},
   "source": [
    "#### Titanosauriformes"
   ]
  },
  {
   "cell_type": "code",
   "execution_count": 16,
   "id": "686c8f91",
   "metadata": {},
   "outputs": [],
   "source": [
    "class Titanosauriformes(Macronaria):\n",
    "    namespace = dinosaur_onto\n",
    "\n",
    "class Brachiosauridae(Titanosauriformes):\n",
    "    namespace = dinosaur_onto\n",
    "\n",
    "class Somphospondyli(Titanosauriformes):\n",
    "    namespace = dinosaur_onto\n",
    "\n",
    "class Titanosauria(Somphospondyli):\n",
    "    namespace = dinosaur_onto\n",
    "\n",
    "class Eutitanosauria(Titanosauria):\n",
    "    namespace = dinosaur_onto\n",
    "\n",
    "class Rinconsauria_Lognkosauria(Eutitanosauria):\n",
    "    namespace = dinosaur_onto\n",
    "\n",
    "class Rinconsauria(Rinconsauria_Lognkosauria):\n",
    "    namespace = dinosaur_onto\n",
    "\n",
    "class Lognkosauria(Rinconsauria_Lognkosauria):\n",
    "    namespace = dinosaur_onto\n",
    "\n",
    "class Eutitanosauria_Lithostrotia(Eutitanosauria):\n",
    "    namespace = dinosaur_onto\n",
    "\n",
    "class Lithostrotia(Eutitanosauria_Lithostrotia):\n",
    "    namespace = dinosaur_onto\n",
    "\n",
    "class Saltasauridae(Lithostrotia):\n",
    "    namespace = dinosaur_onto\n",
    "\n",
    "class Saltasaurinae(Saltasauridae):\n",
    "    namespace = dinosaur_onto"
   ]
  },
  {
   "cell_type": "markdown",
   "id": "2383823f",
   "metadata": {},
   "source": [
    "#### Theropoda"
   ]
  },
  {
   "cell_type": "code",
   "execution_count": 17,
   "id": "d27a1d17",
   "metadata": {},
   "outputs": [],
   "source": [
    "class Theropoda(Eusaurischia):\n",
    "    namespace = dinosaur_onto\n",
    "\n",
    "class Coelophysidae(Theropoda):\n",
    "    namespace = dinosaur_onto\n",
    "\n",
    "class Neotheropoda(Theropoda):\n",
    "    namespace = dinosaur_onto\n",
    "\n",
    "class Dilophosauridae(Neotheropoda):\n",
    "    namespace = dinosaur_onto\n",
    "\n",
    "class Averostra(Neotheropoda):\n",
    "    namespace = dinosaur_onto\n",
    "\n",
    "class Tetanurae(Averostra):\n",
    "    namespace = dinosaur_onto"
   ]
  },
  {
   "cell_type": "markdown",
   "id": "3113ee85",
   "metadata": {},
   "source": [
    "#### Ceratosauria"
   ]
  },
  {
   "cell_type": "code",
   "execution_count": 18,
   "id": "ef099d31",
   "metadata": {},
   "outputs": [],
   "source": [
    "class Ceratosauria(Averostra):\n",
    "    namespace = dinosaur_onto\n",
    "\n",
    "class Noasauridae(Ceratosauria):\n",
    "    namespace = dinosaur_onto\n",
    "\n",
    "class Noasaurinae(Noasauridae):\n",
    "    namespace = dinosaur_onto\n",
    "\n",
    "class Elaphrosaurinae(Noasauridae):\n",
    "    namespace = dinosaur_onto\n",
    "\n",
    "class Neoceratosauria(Ceratosauria):\n",
    "    namespace = dinosaur_onto\n",
    "\n",
    "class Etrigansauria(Neoceratosauria):\n",
    "    namespace = dinosaur_onto\n",
    "\n",
    "class Ceratosauridae(Etrigansauria):\n",
    "    namespace = dinosaur_onto\n",
    "\n",
    "class Abelisauridae(Etrigansauria):\n",
    "    namespace = dinosaur_onto\n",
    "\n",
    "class Carnotaurinae(Abelisauridae):\n",
    "    namespace = dinosaur_onto\n",
    "\n",
    "class Majungasaurinae(Carnotaurinae):\n",
    "    namespace = dinosaur_onto\n",
    "\n",
    "class Brachyrostra(Carnotaurinae):\n",
    "    namespace = dinosaur_onto\n",
    "\n",
    "class Furileusauria(Brachyrostra):\n",
    "    namespace = dinosaur_onto"
   ]
  },
  {
   "cell_type": "markdown",
   "id": "9922e2f9",
   "metadata": {},
   "source": [
    "#### Carnosauria"
   ]
  },
  {
   "cell_type": "code",
   "execution_count": 19,
   "id": "ebd0ea44",
   "metadata": {},
   "outputs": [],
   "source": [
    "class Carnosauria(Tetanurae):\n",
    "    namespace = dinosaur_onto\n",
    "\n",
    "class Spinosauridae(Carnosauria):\n",
    "    namespace = dinosaur_onto\n",
    "\n",
    "class Baryonychinae(Spinosauridae):\n",
    "    namespace = dinosaur_onto\n",
    "\n",
    "class Ceratosuchopsini(Baryonychinae):\n",
    "    namespace = dinosaur_onto\n",
    "\n",
    "class Spinosaurinae(Spinosauridae):\n",
    "    namespace = dinosaur_onto\n",
    "\n",
    "class Spinosaurini(Spinosaurinae):\n",
    "    namespace = dinosaur_onto\n",
    "\n",
    "class Neocarnosauria(Carnosauria):\n",
    "    namespace = dinosaur_onto\n",
    "\n",
    "class Megalosauridae(Neocarnosauria):\n",
    "    namespace = dinosaur_onto\n",
    "\n",
    "class Afrovenatorinae(Megalosauridae):\n",
    "    namespace = dinosaur_onto\n",
    "\n",
    "class Megalosaurinae(Megalosauridae):\n",
    "    namespace = dinosaur_onto\n",
    "\n",
    "class Allosauroidea(Neocarnosauria):\n",
    "    namespace = dinosaur_onto\n",
    "\n",
    "class Allosauridae(Allosauroidea):\n",
    "    namespace = dinosaur_onto\n",
    "\n",
    "class Charcharodontosauridae(Allosauroidea):\n",
    "    namespace = dinosaur_onto\n",
    "\n",
    "class Metriacanthosauridae(Charcharodontosauridae):\n",
    "    namespace = dinosaur_onto\n",
    "\n",
    "class Metriacanthosaurinae(Metriacanthosauridae):\n",
    "    namespace = dinosaur_onto\n",
    "\n",
    "class Charcharodontosaurinae(Charcharodontosauridae):\n",
    "    namespace = dinosaur_onto\n",
    "\n",
    "class Gigantosaurini(Charcharodontosaurinae):\n",
    "    namespace = dinosaur_onto"
   ]
  },
  {
   "cell_type": "markdown",
   "id": "edcd7321",
   "metadata": {},
   "source": [
    "#### Coelurosauria"
   ]
  },
  {
   "cell_type": "code",
   "execution_count": 20,
   "id": "86eb7aa9",
   "metadata": {},
   "outputs": [],
   "source": [
    "class Coelurosauria(Tetanurae):\n",
    "    namespace = dinosaur_onto\n",
    "\n",
    "class Tyrannoraptora(Coelurosauria):\n",
    "    namespace = dinosaur_onto\n",
    "\n",
    "class Tyrannosauroidea(Tyrannoraptora):\n",
    "    namespace = dinosaur_onto\n",
    "\n",
    "class Protoceratosauridae(Tyrannosauroidea):\n",
    "    namespace = dinosaur_onto\n",
    "\n",
    "class Pantyrannosauria(Tyrannosauroidea):\n",
    "    namespace = dinosaur_onto\n",
    "\n",
    "class Megaraptora(Pantyrannosauria):\n",
    "    namespace = dinosaur_onto\n",
    "\n",
    "class Megaraptoridae(Megaraptora):\n",
    "    namespace = dinosaur_onto\n",
    "\n",
    "class Eutyrannosauria(Pantyrannosauria):\n",
    "    namespace = dinosaur_onto\n",
    "\n",
    "class Tyrannosauridae(Eutyrannosauria):\n",
    "    namespace = dinosaur_onto\n",
    "\n",
    "class Albertosaurinae(Tyrannosauridae):\n",
    "    namespace = dinosaur_onto\n",
    "\n",
    "class Tyrannosaurinae(Tyrannosauridae):\n",
    "    namespace = dinosaur_onto\n",
    "\n",
    "class Alioramini(Tyrannosaurinae):\n",
    "    namespace = dinosaur_onto\n",
    "\n",
    "class Daspletosaurini_Tyrannosaurini(Tyrannosaurinae):\n",
    "    namespace = dinosaur_onto\n",
    "\n",
    "class Daspletosaurini(Daspletosaurini_Tyrannosaurini):\n",
    "    namespace = dinosaur_onto\n",
    "\n",
    "class Tyrannosaurini(Daspletosaurini_Tyrannosaurini):\n",
    "    namespace = dinosaur_onto"
   ]
  },
  {
   "cell_type": "markdown",
   "id": "67360f5e",
   "metadata": {},
   "source": [
    "#### Maniraptoromorpha"
   ]
  },
  {
   "cell_type": "code",
   "execution_count": 21,
   "id": "1530733a",
   "metadata": {},
   "outputs": [],
   "source": [
    "class Maniraptoromorpha(Tyrannoraptora):\n",
    "    namespace = dinosaur_onto\n",
    "\n",
    "class Coeluridae(Maniraptoromorpha):\n",
    "    namespace = dinosaur_onto\n",
    "\n",
    "class Neocoelurosauria(Maniraptoromorpha):\n",
    "    namespace = dinosaur_onto\n",
    "\n",
    "class Compsognathidae(Neocoelurosauria):\n",
    "    namespace = dinosaur_onto"
   ]
  },
  {
   "cell_type": "markdown",
   "id": "6e65b74e",
   "metadata": {},
   "source": [
    "#### Maniraptoriformes"
   ]
  },
  {
   "cell_type": "code",
   "execution_count": 22,
   "id": "2dbbb752",
   "metadata": {},
   "outputs": [],
   "source": [
    "class Maniraptoriformes(Neocoelurosauria):\n",
    "    namespace = dinosaur_onto\n",
    "\n",
    "class Ornitomimosauria(Maniraptoriformes):\n",
    "    namespace = dinosaur_onto\n",
    "\n",
    "class Deinocheiridae(Ornitomimosauria):\n",
    "    namespace = dinosaur_onto\n",
    "\n",
    "class Ornithomimidae(Ornitomimosauria):\n",
    "    namespace = dinosaur_onto\n",
    "\n",
    "class Maniraptora(Maniraptoriformes):\n",
    "    namespace = dinosaur_onto\n",
    "\n",
    "class Alvarezsauroidea(Maniraptora):\n",
    "    namespace = dinosaur_onto\n",
    "\n",
    "class Alvarezsauridae(Alvarezsauroidea):\n",
    "    namespace = dinosaur_onto\n",
    "\n",
    "class Patagonykinae_Alvarezsaurinae(Alvarezsauridae):\n",
    "    namespace = dinosaur_onto\n",
    "\n",
    "class Patagonykinae(Patagonykinae_Alvarezsaurinae):\n",
    "    namespace = dinosaur_onto\n",
    "\n",
    "class Alvarezsaurinae(Patagonykinae_Alvarezsaurinae):\n",
    "    namespace = dinosaur_onto\n",
    "\n",
    "class Parvicursorinae(Alvarezsauridae):\n",
    "    namespace = dinosaur_onto\n",
    "\n",
    "class Mononykini(Parvicursorinae):\n",
    "    namespace = dinosaur_onto\n",
    "\n",
    "class Maniraptora_Pennaraptora(Maniraptora):\n",
    "    namespace = dinosaur_onto\n",
    "\n",
    "class Therizinosauridae(Maniraptora_Pennaraptora):\n",
    "    namespace = dinosaur_onto"
   ]
  },
  {
   "cell_type": "markdown",
   "id": "836e256a",
   "metadata": {},
   "source": [
    "#### Pennaraptora"
   ]
  },
  {
   "cell_type": "code",
   "execution_count": 23,
   "id": "d7c84576",
   "metadata": {},
   "outputs": [],
   "source": [
    "class Pennaraptora(Maniraptora_Pennaraptora):\n",
    "    namespace = dinosaur_onto\n",
    "\n",
    "class Oviraptorosauria(Pennaraptora):\n",
    "    namespace = dinosaur_onto\n",
    "\n",
    "class Caudipteridae(Oviraptorosauria):\n",
    "    namespace = dinosaur_onto\n",
    "\n",
    "class Oviraptorosauria_Caenagnathoidea(Oviraptorosauria):\n",
    "    namespace = dinosaur_onto\n",
    "\n",
    "class Caenagnathoidea(Oviraptorosauria_Caenagnathoidea):\n",
    "    namespace = dinosaur_onto\n",
    "\n",
    "class Caenagnathidae(Caenagnathoidea):\n",
    "    namespace = dinosaur_onto\n",
    "\n",
    "class Oviraptoridae(Caenagnathoidea):\n",
    "    namespace = dinosaur_onto"
   ]
  },
  {
   "cell_type": "markdown",
   "id": "7169d361",
   "metadata": {},
   "source": [
    "#### Paraves"
   ]
  },
  {
   "cell_type": "code",
   "execution_count": 24,
   "id": "5c433c11",
   "metadata": {},
   "outputs": [],
   "source": [
    "class Paraves(Pennaraptora):\n",
    "    namespace = dinosaur_onto\n",
    "\n",
    "class Dromaeosauridae(Paraves):\n",
    "    namespace = dinosaur_onto\n",
    "\n",
    "class Halszlaraptorinae(Dromaeosauridae):\n",
    "    namespace = dinosaur_onto\n",
    "\n",
    "class Dromaeosauridae_Unenlagiinae(Dromaeosauridae):\n",
    "    namespace = dinosaur_onto\n",
    "\n",
    "class Unenlagiinae(Dromaeosauridae_Unenlagiinae):\n",
    "    namespace = dinosaur_onto\n",
    "\n",
    "class Microraptoria_Eudromaeosauria(Dromaeosauridae_Unenlagiinae):\n",
    "    namespace = dinosaur_onto\n",
    "\n",
    "class Microraptoria(Microraptoria_Eudromaeosauria):\n",
    "    namespace = dinosaur_onto\n",
    "\n",
    "class Eudromaeosauria(Microraptoria_Eudromaeosauria):\n",
    "    namespace = dinosaur_onto\n",
    "\n",
    "class Dromaeosaurinae(Eudromaeosauria):\n",
    "    namespace = dinosaur_onto\n",
    "\n",
    "class Velociraptorinae(Eudromaeosauria):\n",
    "    namespace = dinosaur_onto"
   ]
  },
  {
   "cell_type": "markdown",
   "id": "6ccea37b",
   "metadata": {},
   "source": [
    "#### Averaptora"
   ]
  },
  {
   "cell_type": "code",
   "execution_count": 25,
   "id": "3ca34388",
   "metadata": {},
   "outputs": [],
   "source": [
    "class Averaptora(Paraves):\n",
    "    namespace = dinosaur_onto\n",
    "\n",
    "class Troodontidae(Averaptora):\n",
    "    namespace = dinosaur_onto\n",
    "\n",
    "class Troodontinae(Troodontidae):\n",
    "    namespace = dinosaur_onto\n",
    "\n",
    "class Avialae(Averaptora):\n",
    "    namespace = dinosaur_onto\n",
    "\n",
    "class Archaeopterygidae(Avialae):\n",
    "    namespace = dinosaur_onto\n",
    "\n",
    "class Scansoriopterygidae(Archaeopterygidae):\n",
    "    namespace = dinosaur_onto\n",
    "\n",
    "class Avialae_Pygostylia(Avialae):\n",
    "    namespace = dinosaur_onto\n",
    "\n",
    "class Jeholornithiformes(Avialae_Pygostylia):\n",
    "    namespace = dinosaur_onto\n",
    "\n",
    "class Jeholornithidae(Jeholornithiformes):\n",
    "    namespace = dinosaur_onto\n",
    "\n",
    "class Pygostylia(Avialae_Pygostylia):\n",
    "    namespace = dinosaur_onto\n",
    "\n",
    "class Jinguofortisidae(Pygostylia):\n",
    "    namespace = dinosaur_onto\n",
    "\n",
    "class Pygostylia_Ornithothoraces(Pygostylia):\n",
    "    namespace = dinosaur_onto\n",
    "\n",
    "class Confuciusornithidae(Pygostylia_Ornithothoraces):\n",
    "    namespace = dinosaur_onto"
   ]
  },
  {
   "cell_type": "markdown",
   "id": "f21af73a",
   "metadata": {},
   "source": [
    "#### Ornithothoraces"
   ]
  },
  {
   "cell_type": "code",
   "execution_count": 26,
   "id": "aa093ba8",
   "metadata": {},
   "outputs": [],
   "source": [
    "class Ornithothoraces(Pygostylia_Ornithothoraces):\n",
    "    namespace = dinosaur_onto\n",
    "\n",
    "class Enantiornithes(Ornithothoraces):\n",
    "    namespace = dinosaur_onto\n",
    "\n",
    "class Longipterygidae(Enantiornithes):\n",
    "    namespace = dinosaur_onto\n",
    "\n",
    "class Euenantiornithes(Enantiornithes):\n",
    "    namespace = dinosaur_onto\n",
    "\n",
    "class Avisauridae(Euenantiornithes):\n",
    "    namespace = dinosaur_onto\n",
    "\n",
    "class Pengornithidae_Bohaiornithidae(Euenantiornithes):\n",
    "    namespace = dinosaur_onto\n",
    "\n",
    "class Pengornithidae(Pengornithidae_Bohaiornithidae):\n",
    "    namespace = dinosaur_onto\n",
    "\n",
    "class Bohaiornithidae(Pengornithidae_Bohaiornithidae):\n",
    "    namespace = dinosaur_onto\n",
    "\n",
    "class Euornithes(Ornithothoraces):\n",
    "    namespace = dinosaur_onto"
   ]
  },
  {
   "cell_type": "markdown",
   "id": "c04d3126",
   "metadata": {},
   "source": [
    "#### Ornithurae"
   ]
  },
  {
   "cell_type": "code",
   "execution_count": 27,
   "id": "43281f3e",
   "metadata": {},
   "outputs": [],
   "source": [
    "class Ornithurae(Euornithes):\n",
    "    namespace = dinosaur_onto\n",
    "\n",
    "class Hesperornithes(Ornithurae):\n",
    "    namespace = dinosaur_onto\n",
    "\n",
    "class Baptornithidae(Hesperornithes):\n",
    "    namespace = dinosaur_onto\n",
    "\n",
    "class Brodavidae_Hesperornithidae(Hesperornithes):\n",
    "    namespace = dinosaur_onto\n",
    "\n",
    "class Brodavidae(Brodavidae_Hesperornithidae):\n",
    "    namespace = dinosaur_onto\n",
    "\n",
    "class Hesperornithidae(Brodavidae_Hesperornithidae):\n",
    "    namespace = dinosaur_onto\n",
    "\n",
    "class Ornithurae_Ichthyornithes(Ornithurae):\n",
    "    namespace = dinosaur_onto\n",
    "\n",
    "class Ichthyornithes(Ornithurae_Ichthyornithes):\n",
    "    namespace = dinosaur_onto\n",
    "\n",
    "class Ornithurae_Ichthyornithes_Vegaviidae(Ornithurae_Ichthyornithes):\n",
    "    namespace = dinosaur_onto\n",
    "\n",
    "class Vegaviidae(Ornithurae_Ichthyornithes_Vegaviidae):\n",
    "    namespace = dinosaur_onto\n",
    "\n",
    "class Ornithurae_Ichthyornithes_Vegaviidae_Aves(Ornithurae_Ichthyornithes_Vegaviidae):\n",
    "    namespace = dinosaur_onto"
   ]
  },
  {
   "cell_type": "markdown",
   "id": "46847758",
   "metadata": {},
   "source": [
    "#### Aves"
   ]
  },
  {
   "cell_type": "code",
   "execution_count": 28,
   "id": "10eed580",
   "metadata": {},
   "outputs": [],
   "source": [
    "class Aves(Ornithurae_Ichthyornithes_Vegaviidae_Aves):\n",
    "    namespace = dinosaur_onto"
   ]
  },
  {
   "cell_type": "markdown",
   "id": "a86002c7",
   "metadata": {},
   "source": [
    "#### Save the dinosaur ontology to an OWL file"
   ]
  },
  {
   "cell_type": "code",
   "execution_count": 29,
   "id": "112fd7e9",
   "metadata": {},
   "outputs": [],
   "source": [
    "dinosaur_onto.save(file = \"dinosaur_onto.owl\", format = \"rdfxml\")"
   ]
  },
  {
   "cell_type": "markdown",
   "id": "a2393a50",
   "metadata": {},
   "source": [
    "#### Dinosaur ontology visualised via WebVOWL 1.1.7"
   ]
  },
  {
   "cell_type": "markdown",
   "id": "fe2ee7e1",
   "metadata": {},
   "source": [
    "![dinosaur_onto.svg](dinosaur_onto.svg)"
   ]
  },
  {
   "cell_type": "markdown",
   "id": "e5af39a8",
   "metadata": {},
   "source": [
    "## Sources"
   ]
  },
  {
   "cell_type": "markdown",
   "id": "7d5f807d",
   "metadata": {},
   "source": [
    "[1] [Owlready2](https://owlready2.readthedocs.io/en/latest/)"
   ]
  },
  {
   "cell_type": "markdown",
   "id": "655f1a43",
   "metadata": {},
   "source": [
    "[2] [OWL Web Ontology Language Guide](https://www.w3.org/TR/owl-guide/)"
   ]
  },
  {
   "cell_type": "markdown",
   "id": "c8449421",
   "metadata": {},
   "source": [
    "[3] [GEOL 104 Dinosaurs: A Natural History](https://www.geol.umd.edu/%7Etholtz/G104/lectures/104dinorise.html)"
   ]
  },
  {
   "cell_type": "markdown",
   "id": "3471548b",
   "metadata": {},
   "source": [
    "[4] [Ornithischia](https://en.wikipedia.org/wiki/Ornithischia)"
   ]
  },
  {
   "cell_type": "markdown",
   "id": "cab79fb4",
   "metadata": {},
   "source": [
    "[5] [Thyreophora](https://en.wikipedia.org/wiki/Thyreophora)"
   ]
  },
  {
   "cell_type": "markdown",
   "id": "a13f94aa",
   "metadata": {},
   "source": [
    "[6] [Cerapoda](https://en.wikipedia.org/wiki/Cerapoda)"
   ]
  },
  {
   "cell_type": "markdown",
   "id": "b5c30508",
   "metadata": {},
   "source": [
    "[7] [Saurischia](https://en.wikipedia.org/wiki/Saurischia)"
   ]
  },
  {
   "cell_type": "markdown",
   "id": "b58e556e",
   "metadata": {},
   "source": [
    "[8] [Theropoda](https://en.wikipedia.org/wiki/Theropoda)"
   ]
  },
  {
   "cell_type": "markdown",
   "id": "01ec0b6a",
   "metadata": {},
   "source": [
    "[9] [Sauropoda](https://en.wikipedia.org/wiki/Sauropoda)"
   ]
  }
 ],
 "metadata": {
  "kernelspec": {
   "display_name": ".venv",
   "language": "python",
   "name": "python3"
  },
  "language_info": {
   "codemirror_mode": {
    "name": "ipython",
    "version": 3
   },
   "file_extension": ".py",
   "mimetype": "text/x-python",
   "name": "python",
   "nbconvert_exporter": "python",
   "pygments_lexer": "ipython3",
   "version": "3.13.9"
  }
 },
 "nbformat": 4,
 "nbformat_minor": 5
}
