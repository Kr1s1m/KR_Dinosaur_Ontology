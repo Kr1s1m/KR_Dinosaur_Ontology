{
 "cells": [
  {
   "cell_type": "markdown",
   "id": "305cf858-2be2-46f2-a0e5-b1bc818ab788",
   "metadata": {},
   "source": [
    "# Dinosaur Ontology"
   ]
  },
  {
   "cell_type": "markdown",
   "id": "0cf7e902-df0d-48d7-a11f-0dfc514c6e61",
   "metadata": {},
   "source": [
    "## Code & Experiments"
   ]
  },
  {
   "cell_type": "markdown",
   "id": "4a02c1d1",
   "metadata": {},
   "source": [
    "#### Python 3 owlready2 implementation"
   ]
  },
  {
   "cell_type": "code",
   "execution_count": 1,
   "id": "396a9e03",
   "metadata": {},
   "outputs": [],
   "source": [
    "from owlready2 import *"
   ]
  },
  {
   "cell_type": "markdown",
   "id": "f44fbd32",
   "metadata": {},
   "source": [
    "#### Create local ontology"
   ]
  },
  {
   "cell_type": "code",
   "execution_count": 2,
   "id": "833f03fd-5f77-45d6-bb74-e78dc6d74ec8",
   "metadata": {},
   "outputs": [],
   "source": [
    "owlready2.onto_path.append(\"C:/Users/Simov/Desktop/Projects/Knowledge Representation/project/KR_Dinosaur_Ontology\")\n",
    "dinosaur_onto = owlready2.get_ontology(\"http://dinosauria.org/dinosaur_onto.owl\")"
   ]
  },
  {
   "cell_type": "markdown",
   "id": "766b88a4",
   "metadata": {},
   "source": [
    "#### Dinosauria family tree based on the Saurischia model and cutting edge philogenetic studies"
   ]
  },
  {
   "cell_type": "markdown",
   "id": "a585ebcd",
   "metadata": {},
   "source": [
    "![dinosauria.svg](dinosauria.svg)"
   ]
  },
  {
   "cell_type": "code",
   "execution_count": 3,
   "id": "441d09f3",
   "metadata": {},
   "outputs": [],
   "source": [
    "# ROOT\n",
    "class Dinosauria(Thing):\n",
    "    namespace = dinosaur_onto"
   ]
  },
  {
   "cell_type": "markdown",
   "id": "a86002c7",
   "metadata": {},
   "source": [
    "#### Save the dinosaur ontology to an OWL file"
   ]
  },
  {
   "cell_type": "code",
   "execution_count": 4,
   "id": "112fd7e9",
   "metadata": {},
   "outputs": [],
   "source": [
    "dinosaur_onto.save(file = \"dinosaur_onto.owl\", format = \"rdfxml\")"
   ]
  }
 ],
 "metadata": {
  "kernelspec": {
   "display_name": ".venv",
   "language": "python",
   "name": "python3"
  },
  "language_info": {
   "codemirror_mode": {
    "name": "ipython",
    "version": 3
   },
   "file_extension": ".py",
   "mimetype": "text/x-python",
   "name": "python",
   "nbconvert_exporter": "python",
   "pygments_lexer": "ipython3",
   "version": "3.13.9"
  }
 },
 "nbformat": 4,
 "nbformat_minor": 5
}
