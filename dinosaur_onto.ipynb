{
 "cells": [
  {
   "cell_type": "markdown",
   "id": "305cf858-2be2-46f2-a0e5-b1bc818ab788",
   "metadata": {},
   "source": [
    "# Dinosaur Ontology"
   ]
  },
  {
   "cell_type": "markdown",
   "id": "0cf7e902-df0d-48d7-a11f-0dfc514c6e61",
   "metadata": {},
   "source": [
    "## Code & Experiments"
   ]
  },
  {
   "cell_type": "code",
   "execution_count": 1,
   "id": "833f03fd-5f77-45d6-bb74-e78dc6d74ec8",
   "metadata": {},
   "outputs": [],
   "source": [
    "import owlready2\n",
    "owlready2.onto_path.append(\"C:/Users/Simov/Desktop/Projects/Knowledge Representation/project/KR_Dinosaur_Ontology\")\n",
    "dinosaur_onto = owlready2.get_ontology(\"http://test.org/dinosaur_onto.owl\")"
   ]
  }
 ],
 "metadata": {
  "kernelspec": {
   "display_name": ".venv",
   "language": "python",
   "name": "python3"
  },
  "language_info": {
   "codemirror_mode": {
    "name": "ipython",
    "version": 3
   },
   "file_extension": ".py",
   "mimetype": "text/x-python",
   "name": "python",
   "nbconvert_exporter": "python",
   "pygments_lexer": "ipython3",
   "version": "3.13.9"
  }
 },
 "nbformat": 4,
 "nbformat_minor": 5
}
